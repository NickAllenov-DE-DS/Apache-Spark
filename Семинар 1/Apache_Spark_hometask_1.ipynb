{
  "cells": [
    {
      "cell_type": "markdown",
      "metadata": {
        "id": "bb1OQwf8ahV-"
      },
      "source": [
        "Урок 1. SQL & BigData    \n",
        "Найти самую длинную последовательность упорядоченных чисел в RDD и вывести её."
      ]
    },
    {
      "cell_type": "code",
      "execution_count": null,
      "metadata": {
        "id": "yuVfAklMIXDB"
      },
      "outputs": [],
      "source": [
        "%pip install pyspark\n",
        "\n",
        "# Импорт необходимых модулей\n",
        "from pyspark.sql import SparkSession\n",
        "import random\n",
        "\n",
        "# Определение функции для генерации последовательностей\n",
        "def generate_ordered_sequences(num_sequences, min_length, max_length):\n",
        "    sequences = []\n",
        "    for _ in range(num_sequences):\n",
        "        length = random.randint(min_length, max_length)\n",
        "        start = random.randint(0, 50)\n",
        "        sequence = list(range(start, start + length))\n",
        "        sequences.append(sequence)\n",
        "    return sequences\n",
        "\n",
        "# Инициализация Spark-сессии\n",
        "spark = SparkSession.builder\\\n",
        "  .master(\"local[*]\")\\\n",
        "  .appName(\"LongestOrderedSequence\")\\\n",
        "  .getOrCreate()\n",
        "sc = spark.sparkContext\n",
        "\n",
        "# Определение аргументов\n",
        "NUM_SEQUENCES = 10\n",
        "MIN_LENGTH = 5\n",
        "MAX_LENGTH = 15\n",
        "\n",
        "# Генерация последовательностей и создание RDD\n",
        "sequences = generate_ordered_sequences(NUM_SEQUENCES, MIN_LENGTH, MAX_LENGTH)\n",
        "rdd = sc.parallelize(sequences)\n",
        "\n",
        "# Вывод сгенерированных последовательностей\n",
        "# for seq in sequences:\n",
        "#   print(f'Последовательность: {seq},\\t количество элементов - {len(seq)}')\n",
        "\n",
        "# Поиск длины самой длинной последовательности с использованием reduce\n",
        "max_length = rdd.map(len).max()\n",
        "# или так:\n",
        "# max_length = rdd.map(len).reduce(lambda a, b: a if a > b else b)\n",
        "\n",
        "# Поиск всех последовательностей, которые имеют максимальную длину и их сборка\n",
        "# Используем flatMap для уменьшения объема данных\n",
        "longest_sequences_rdd = rdd.filter(lambda seq: len(seq) == max_length)\n",
        "\n",
        "# Ограничиваем количество элементов для обработки и печати\n",
        "longest_sequences = longest_sequences_rdd.collect()\n",
        "# Можно использовать .take(n) для ограничения\n",
        "# longest_sequences = longest_sequences_rdd.take(n)\n",
        "\n",
        "# Вывод всех самых длинных последовательностей\n",
        "print(\"Самые длинные последовательности:\")\n",
        "for l_seq in longest_sequences:\n",
        "    print(f'{l_seq}, количество элементов - {len(l_seq)}')\n",
        "\n",
        "# Завершение Spark-сессии\n",
        "spark.stop()\n"
      ]
    }
  ],
  "metadata": {
    "colab": {
      "provenance": []
    },
    "kernelspec": {
      "display_name": "Python 3",
      "name": "python3"
    },
    "language_info": {
      "name": "python"
    }
  },
  "nbformat": 4,
  "nbformat_minor": 0
}
