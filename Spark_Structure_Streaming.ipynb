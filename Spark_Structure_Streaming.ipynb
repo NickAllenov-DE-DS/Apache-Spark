{
  "nbformat": 4,
  "nbformat_minor": 0,
  "metadata": {
    "colab": {
      "provenance": []
    },
    "kernelspec": {
      "name": "python3",
      "display_name": "Python 3"
    },
    "language_info": {
      "name": "python"
    }
  },
  "cells": [
    {
      "cell_type": "markdown",
      "source": [
        "# Изучение Spark Structure Streaming\n",
        "Условие: используйте источник rate, напишите код, который создаст дополнительный столбец, который будет выводить сумму только нечётных чисел."
      ],
      "metadata": {
        "id": "EGOAaSzlVO7E"
      }
    },
    {
      "cell_type": "code",
      "source": [
        "!pip install pyspark"
      ],
      "metadata": {
        "colab": {
          "base_uri": "https://localhost:8080/"
        },
        "id": "2YrTZ5zLWAXv",
        "outputId": "0545837e-b8ec-44c7-bd08-8c222be7fc5a"
      },
      "execution_count": 1,
      "outputs": [
        {
          "output_type": "stream",
          "name": "stdout",
          "text": [
            "Collecting pyspark\n",
            "  Downloading pyspark-3.5.1.tar.gz (317.0 MB)\n",
            "\u001b[2K     \u001b[90m━━━━━━━━━━━━━━━━━━━━━━━━━━━━━━━━━━━━━━━━\u001b[0m \u001b[32m317.0/317.0 MB\u001b[0m \u001b[31m4.1 MB/s\u001b[0m eta \u001b[36m0:00:00\u001b[0m\n",
            "\u001b[?25h  Preparing metadata (setup.py) ... \u001b[?25l\u001b[?25hdone\n",
            "Requirement already satisfied: py4j==0.10.9.7 in /usr/local/lib/python3.10/dist-packages (from pyspark) (0.10.9.7)\n",
            "Building wheels for collected packages: pyspark\n",
            "  Building wheel for pyspark (setup.py) ... \u001b[?25l\u001b[?25hdone\n",
            "  Created wheel for pyspark: filename=pyspark-3.5.1-py2.py3-none-any.whl size=317488490 sha256=92e7d04cc7586e4e9ed88d10c9c2c2994baaa4605d8ef9ca9ee17c04422ed89a\n",
            "  Stored in directory: /root/.cache/pip/wheels/80/1d/60/2c256ed38dddce2fdd93be545214a63e02fbd8d74fb0b7f3a6\n",
            "Successfully built pyspark\n",
            "Installing collected packages: pyspark\n",
            "Successfully installed pyspark-3.5.1\n"
          ]
        }
      ]
    },
    {
      "cell_type": "code",
      "source": [
        "# Импорт модулей\n",
        "from pyspark.sql import SparkSession\n",
        "from pyspark.sql.functions import col, when\n",
        "import time"
      ],
      "metadata": {
        "id": "nior86UbVZuy"
      },
      "execution_count": 28,
      "outputs": []
    },
    {
      "cell_type": "code",
      "source": [
        "# Проверка на существование запущенной spark-сессии\n",
        "# необязательно при использовании синтаксиса - 'getOrCreate()' при создании spark-сессии\n",
        "\n",
        "if 'spark' in locals():\n",
        "  spark.stop()"
      ],
      "metadata": {
        "id": "xemMHQW5bN6V"
      },
      "execution_count": 29,
      "outputs": []
    },
    {
      "cell_type": "code",
      "source": [
        "# Создание сессии Spark\n",
        "spark = SparkSession.builder \\\n",
        "    .appName(\"SumOddNumbers\") \\\n",
        "    .getOrCreate()"
      ],
      "metadata": {
        "id": "Mjxcho5AVdqL"
      },
      "execution_count": 30,
      "outputs": []
    },
    {
      "cell_type": "code",
      "source": [
        "# Чтение данных из источника rate\n",
        "df = spark.readStream.format(\"rate\").option(\"rowsPerSecond\", 1).load()"
      ],
      "metadata": {
        "id": "45iIB1_QVkuH"
      },
      "execution_count": 31,
      "outputs": []
    },
    {
      "cell_type": "code",
      "source": [
        "# Определение функции для вычисления суммы нечётных чисел\n",
        "def sum_odd_numbers(df):\n",
        "    return df.withColumn('sum_of_odds', when(col('value') % 2 != 0, col('value')).otherwise(0))"
      ],
      "metadata": {
        "id": "2XX4HxIbVmit"
      },
      "execution_count": 32,
      "outputs": []
    },
    {
      "cell_type": "code",
      "source": [
        "# Применение функции к DataFrame\n",
        "df_with_sum = sum_odd_numbers(df)"
      ],
      "metadata": {
        "id": "1gs-4axzVsdA"
      },
      "execution_count": 33,
      "outputs": []
    },
    {
      "cell_type": "code",
      "execution_count": 34,
      "metadata": {
        "id": "M-2q6YW0VHhT"
      },
      "outputs": [],
      "source": [
        "# Вывод результата в консоль\n",
        "query = df_with_sum.writeStream \\\n",
        "    .outputMode(\"append\") \\\n",
        "    .format(\"console\") \\\n",
        "    .start()"
      ]
    },
    {
      "cell_type": "code",
      "source": [
        "# # Время ожидания в миллисекундах (например, 10 секунд)\n",
        "# timeout = 10000\n",
        "\n",
        "# try:\n",
        "#     # Ожидание завершения потока в течение timeout миллисекунд\n",
        "#     query.awaitTermination(timeout)\n",
        "# except KeyboardInterrupt:\n",
        "#     # Принудительная остановка в случае прерывания (например, через Ctrl+C)\n",
        "#     print(\"Terminating the query due to interrupt.\")\n",
        "# finally:\n",
        "#     # Остановка запроса и завершение сессии Spark\n",
        "#     query.stop()\n",
        "#     spark.stop()\n",
        "\n",
        "# # Этот вариант НЕ РАБОТАЕТ в Google Colab"
      ],
      "metadata": {
        "colab": {
          "base_uri": "https://localhost:8080/"
        },
        "id": "ejUxC-8HVyB5",
        "outputId": "4e67fc69-dc99-418b-db63-3c394db59de1"
      },
      "execution_count": 27,
      "outputs": [
        {
          "output_type": "stream",
          "name": "stderr",
          "text": [
            "ERROR:root:KeyboardInterrupt while sending command.\n",
            "Traceback (most recent call last):\n",
            "  File \"/usr/local/lib/python3.10/dist-packages/py4j/java_gateway.py\", line 1038, in send_command\n",
            "    response = connection.send_command(command)\n",
            "  File \"/usr/local/lib/python3.10/dist-packages/py4j/clientserver.py\", line 511, in send_command\n",
            "    answer = smart_decode(self.stream.readline()[:-1])\n",
            "  File \"/usr/lib/python3.10/socket.py\", line 705, in readinto\n",
            "    return self._sock.recv_into(b)\n",
            "KeyboardInterrupt\n"
          ]
        },
        {
          "output_type": "stream",
          "name": "stdout",
          "text": [
            "Terminating the query due to interrupt.\n"
          ]
        }
      ]
    },
    {
      "cell_type": "code",
      "source": [
        "# Вариант 2\n",
        "# Использование цикла для периодической проверки состояния стрима и завершения при необходимости\n",
        "\n",
        "# Время ожидания в секундах (например, 10 секунд)\n",
        "timeout = 10\n",
        "start_time = time.time()\n",
        "\n",
        "try:\n",
        "    while query.isActive:\n",
        "        current_time = time.time()\n",
        "        elapsed_time = current_time - start_time\n",
        "        if elapsed_time > timeout:\n",
        "            print(\"Timeout reached. Terminating the query.\")\n",
        "            query.stop()\n",
        "            break\n",
        "        time.sleep(1)\n",
        "except KeyboardInterrupt:\n",
        "    print(\"Terminating the query due to interrupt.\")\n",
        "finally:\n",
        "    query.stop()\n",
        "    spark.stop()"
      ],
      "metadata": {
        "colab": {
          "base_uri": "https://localhost:8080/"
        },
        "id": "UNY6RiKldLfR",
        "outputId": "48aaa898-139e-4fa5-cb60-d96d34d9879b"
      },
      "execution_count": 35,
      "outputs": [
        {
          "output_type": "stream",
          "name": "stdout",
          "text": [
            "Timeout reached. Terminating the query.\n"
          ]
        }
      ]
    }
  ]
}