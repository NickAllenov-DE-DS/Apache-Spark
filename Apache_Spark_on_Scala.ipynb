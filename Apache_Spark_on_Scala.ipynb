{
  "nbformat": 4,
  "nbformat_minor": 0,
  "metadata": {
    "colab": {
      "provenance": []
    },
    "kernelspec": {
      "name": "python3",
      "display_name": "Python 3"
    },
    "language_info": {
      "name": "python"
    }
  },
  "cells": [
    {
      "cell_type": "markdown",
      "source": [
        "# Урок 5. Spark on scala\n",
        "\n",
        "Условие: создайте csv файл с таким содержимым:\n",
        "\n",
        "title,author,genre,sales,year\n",
        "\n",
        "\"1984\", \"George Orwell\", \"Science Fiction\", 5000, 1949\n",
        "\n",
        "\"The Lord of the Rings\", \"J.R.R. Tolkien\", \"Fantasy\", 3000, 1954\n",
        "\n",
        "\"To Kill a Mockingbird\", \"Harper Lee\", \"Southern Gothic\", 4000, 1960\n",
        "\n",
        "\"The Catcher in the Rye\", \"J.D. Salinger\", \"Novel\", 2000, 1951\n",
        "\n",
        "\"The Great Gatsby\", \"F. Scott Fitzgerald\", \"Novel\", 4500, 1925\n",
        "\n",
        "## Задание:\n",
        "\n",
        "— Используя Spark прочитайте данные из файла csv.\n",
        "\n",
        "— Фильтруйте данные, чтобы оставить только книги, продажи которых превышают 3000 экземпляров.\n",
        "\n",
        "— Сгруппируйте данные по жанру и вычислите общий объем продаж для каждого жанра.\n",
        "\n",
        "— Отсортируйте данные по общему объему продаж в порядке убывания.\n",
        "\n",
        "— Выведите результаты на экран."
      ],
      "metadata": {
        "id": "sReVvgQzkqKT"
      }
    },
    {
      "cell_type": "code",
      "source": [
        "# Установка необходимых библиотек\n",
        "!apt-get update\n",
        "!apt-get install -y openjdk-8-jdk-headless -qq > /dev/null\n",
        "!pip install -q pyspark"
      ],
      "metadata": {
        "colab": {
          "base_uri": "https://localhost:8080/"
        },
        "id": "8TM4vUjLkybY",
        "outputId": "573c3aae-8f0c-4df0-cb7a-75bac28174f1"
      },
      "execution_count": 2,
      "outputs": [
        {
          "output_type": "stream",
          "name": "stdout",
          "text": [
            "\r0% [Working]\r            \rHit:1 http://security.ubuntu.com/ubuntu jammy-security InRelease\n",
            "\r0% [Connecting to archive.ubuntu.com (91.189.91.83)] [Connected to cloud.r-project.org (52.85.151.12\r                                                                                                    \rHit:2 http://archive.ubuntu.com/ubuntu jammy InRelease\n",
            "\r0% [Waiting for headers] [Waiting for headers] [Connected to r2u.stat.illinois.edu (192.17.190.167)]\r                                                                                                    \rHit:3 https://cloud.r-project.org/bin/linux/ubuntu jammy-cran40/ InRelease\n",
            "\r0% [Waiting for headers] [Connected to r2u.stat.illinois.edu (192.17.190.167)] [Waiting for headers]\r                                                                                                    \rHit:4 http://archive.ubuntu.com/ubuntu jammy-updates InRelease\n",
            "\r0% [Waiting for headers] [Connected to r2u.stat.illinois.edu (192.17.190.167)] [Waiting for headers]\r                                                                                                    \rHit:5 https://developer.download.nvidia.com/compute/cuda/repos/ubuntu2204/x86_64  InRelease\n",
            "\r0% [Waiting for headers] [Connected to r2u.stat.illinois.edu (192.17.190.167)] [Connecting to ppa.la\r                                                                                                    \rHit:6 http://archive.ubuntu.com/ubuntu jammy-backports InRelease\n",
            "\r0% [Connected to r2u.stat.illinois.edu (192.17.190.167)] [Connected to ppa.launchpadcontent.net (185\r                                                                                                    \rIgn:7 https://r2u.stat.illinois.edu/ubuntu jammy InRelease\n",
            "Hit:8 https://r2u.stat.illinois.edu/ubuntu jammy Release\n",
            "Hit:9 https://ppa.launchpadcontent.net/deadsnakes/ppa/ubuntu jammy InRelease\n",
            "Hit:10 https://ppa.launchpadcontent.net/graphics-drivers/ppa/ubuntu jammy InRelease\n",
            "Hit:11 https://ppa.launchpadcontent.net/ubuntugis/ppa/ubuntu jammy InRelease\n",
            "Reading package lists... Done\n",
            "W: Skipping acquire of configured file 'main/source/Sources' as repository 'https://r2u.stat.illinois.edu/ubuntu jammy InRelease' does not seem to provide it (sources.list entry misspelt?)\n"
          ]
        }
      ]
    },
    {
      "cell_type": "code",
      "source": [
        "# Импорт необходимых библиотек\n",
        "import os\n",
        "from pyspark.sql import SparkSession\n",
        "from pyspark.sql.functions import col, sum"
      ],
      "metadata": {
        "id": "MWtUfegqk0rb"
      },
      "execution_count": 3,
      "outputs": []
    },
    {
      "cell_type": "code",
      "source": [
        "# Настройка переменных окружения для Spark\n",
        "os.environ[\"JAVA_HOME\"] = \"/usr/lib/jvm/java-8-openjdk-amd64\"\n",
        "os.environ[\"SPARK_HOME\"] = \"/usr/local/lib/python3.10/dist-packages/pyspark\""
      ],
      "metadata": {
        "id": "Uwumw38Hk2TE"
      },
      "execution_count": 4,
      "outputs": []
    },
    {
      "cell_type": "code",
      "source": [
        "# Создание SparkSession\n",
        "spark = SparkSession.builder \\\n",
        "    .appName(\"Spark Python CSV Example\") \\\n",
        "    .master(\"local[*]\") \\\n",
        "    .getOrCreate()"
      ],
      "metadata": {
        "id": "c7_sARAbk4Gu"
      },
      "execution_count": 5,
      "outputs": []
    },
    {
      "cell_type": "code",
      "source": [
        "# Определение данных\n",
        "data = [\n",
        "    (\"1984\", \"George Orwell\", \"Science Fiction\", 5000, 1949),\n",
        "    (\"The Lord of the Rings\", \"J.R.R. Tolkien\", \"Fantasy\", 3000, 1954),\n",
        "    (\"To Kill a Mockingbird\", \"Harper Lee\", \"Southern Gothic\", 4000, 1960),\n",
        "    (\"The Catcher in the Rye\", \"J.D. Salinger\", \"Novel\", 2000, 1951),\n",
        "    (\"The Great Gatsby\", \"F. Scott Fitzgerald\", \"Novel\", 4500, 1925)\n",
        "]"
      ],
      "metadata": {
        "id": "Ld7k1wsTk5qS"
      },
      "execution_count": 6,
      "outputs": []
    },
    {
      "cell_type": "code",
      "source": [
        "# Создание DataFrame\n",
        "columns = [\"title\", \"author\", \"genre\", \"sales\", \"year\"]\n",
        "df = spark.createDataFrame(data, schema=columns)"
      ],
      "metadata": {
        "id": "Ms82UrI7k7lE"
      },
      "execution_count": 7,
      "outputs": []
    },
    {
      "cell_type": "code",
      "source": [
        "# Определение пути к файлу\n",
        "csv_file_path = \"/content/books.csv\""
      ],
      "metadata": {
        "id": "FcLs4lmxk_O0"
      },
      "execution_count": 8,
      "outputs": []
    },
    {
      "cell_type": "code",
      "source": [
        "# Проверка существования файла и удаление, если существует\n",
        "if os.path.exists(csv_file_path):\n",
        "    import shutil\n",
        "    shutil.rmtree(csv_file_path)"
      ],
      "metadata": {
        "id": "bGWHte89lAm0"
      },
      "execution_count": 9,
      "outputs": []
    },
    {
      "cell_type": "code",
      "source": [
        "# Сохранение DataFrame в CSV-файл\n",
        "df.write.option(\"header\", \"true\").csv(csv_file_path)"
      ],
      "metadata": {
        "id": "M2VmnUDylCpu"
      },
      "execution_count": 10,
      "outputs": []
    },
    {
      "cell_type": "code",
      "source": [
        "# Чтение данных из CSV-файла\n",
        "books_df = spark.read.option(\"header\", \"true\").option(\"inferSchema\", \"true\").csv(csv_file_path)"
      ],
      "metadata": {
        "id": "8pGKxle-lEQg"
      },
      "execution_count": 11,
      "outputs": []
    },
    {
      "cell_type": "code",
      "source": [
        "# Фильтрация данных, чтобы оставить только книги с продажами выше 3000 экземпляров\n",
        "filtered_df = books_df.filter(col(\"sales\") > 3000)"
      ],
      "metadata": {
        "id": "YTsB5PJilF0W"
      },
      "execution_count": 12,
      "outputs": []
    },
    {
      "cell_type": "code",
      "source": [
        "# Группировка данных по жанру и вычисление общего объема продаж для каждого жанра\n",
        "grouped_df = books_df.groupBy(\"genre\").agg(sum(\"sales\").alias(\"total_sales\"))"
      ],
      "metadata": {
        "id": "2i7_CZlglITc"
      },
      "execution_count": 13,
      "outputs": []
    },
    {
      "cell_type": "code",
      "source": [
        "# Сортировка данных по общему объему продаж в порядке убывания\n",
        "sorted_df = grouped_df.orderBy(col(\"total_sales\").desc())"
      ],
      "metadata": {
        "id": "VkYe8bYVlJr-"
      },
      "execution_count": 15,
      "outputs": []
    },
    {
      "cell_type": "code",
      "execution_count": 16,
      "metadata": {
        "colab": {
          "base_uri": "https://localhost:8080/"
        },
        "id": "5ndTtyNokmeJ",
        "outputId": "215b80d3-e340-45f2-ae7e-846913ab199d"
      },
      "outputs": [
        {
          "output_type": "stream",
          "name": "stdout",
          "text": [
            "Original DataFrame:\n",
            "+--------------------+-------------------+---------------+-----+----+\n",
            "|               title|             author|          genre|sales|year|\n",
            "+--------------------+-------------------+---------------+-----+----+\n",
            "|To Kill a Mocking...|         Harper Lee|Southern Gothic| 4000|1960|\n",
            "|The Catcher in th...|      J.D. Salinger|          Novel| 2000|1951|\n",
            "|    The Great Gatsby|F. Scott Fitzgerald|          Novel| 4500|1925|\n",
            "|                1984|      George Orwell|Science Fiction| 5000|1949|\n",
            "|The Lord of the R...|     J.R.R. Tolkien|        Fantasy| 3000|1954|\n",
            "+--------------------+-------------------+---------------+-----+----+\n",
            "\n",
            "Filtered DataFrame (sales > 3000):\n",
            "+--------------------+-------------------+---------------+-----+----+\n",
            "|               title|             author|          genre|sales|year|\n",
            "+--------------------+-------------------+---------------+-----+----+\n",
            "|To Kill a Mocking...|         Harper Lee|Southern Gothic| 4000|1960|\n",
            "|    The Great Gatsby|F. Scott Fitzgerald|          Novel| 4500|1925|\n",
            "|                1984|      George Orwell|Science Fiction| 5000|1949|\n",
            "+--------------------+-------------------+---------------+-----+----+\n",
            "\n",
            "Grouped DataFrame by genre with total sales:\n",
            "+---------------+-----------+\n",
            "|          genre|total_sales|\n",
            "+---------------+-----------+\n",
            "|Southern Gothic|       4000|\n",
            "|          Novel|       6500|\n",
            "|        Fantasy|       3000|\n",
            "|Science Fiction|       5000|\n",
            "+---------------+-----------+\n",
            "\n",
            "Sorted DataFrame by total sales:\n",
            "+---------------+-----------+\n",
            "|          genre|total_sales|\n",
            "+---------------+-----------+\n",
            "|          Novel|       6500|\n",
            "|Science Fiction|       5000|\n",
            "|Southern Gothic|       4000|\n",
            "|        Fantasy|       3000|\n",
            "+---------------+-----------+\n",
            "\n"
          ]
        }
      ],
      "source": [
        "# Вывод результатов на экран с подписями\n",
        "print(\"Original DataFrame:\")\n",
        "books_df.show()\n",
        "\n",
        "print(\"Filtered DataFrame (sales > 3000):\")\n",
        "filtered_df.show()\n",
        "\n",
        "print(\"Grouped DataFrame by genre with total sales:\")\n",
        "grouped_df.show()\n",
        "\n",
        "print(\"Sorted DataFrame by total sales:\")\n",
        "sorted_df.show()"
      ]
    },
    {
      "cell_type": "code",
      "source": [
        "# Остановка SparkSession\n",
        "spark.stop()"
      ],
      "metadata": {
        "id": "VwaLBD4KlMfg"
      },
      "execution_count": 17,
      "outputs": []
    }
  ]
}