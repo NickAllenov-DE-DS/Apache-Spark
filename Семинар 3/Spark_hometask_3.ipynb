{
  "nbformat": 4,
  "nbformat_minor": 0,
  "metadata": {
    "colab": {
      "provenance": []
    },
    "kernelspec": {
      "name": "python3",
      "display_name": "Python 3"
    },
    "language_info": {
      "name": "python"
    }
  },
  "cells": [
    {
      "cell_type": "markdown",
      "source": [
        "# Урок 3. Инструменты работы и визуализации ч.2\n",
        "Условие: есть набор данных о продажах продуктов с информацией о дате продаж, категории продукта, количестве и выручке от продаж.\n",
        "\n",
        "Используя Apache Spark, загрузите предоставленный набор данных в DataFrame.\n",
        "\n",
        "(\"2023-11-20\", \"Electronics\", 100, 12000),\n",
        "\n",
        "(\"2023-11-21\", \"Electronics\", 110, 13000),\n",
        "\n",
        "(\"2023-11-22\", \"Electronics\", 105, 12500),\n",
        "\n",
        "(\"2023-11-20\", \"Clothing\", 300, 15000),\n",
        "\n",
        "(\"2023-11-21\", \"Clothing\", 280, 14000),\n",
        "\n",
        "(\"2023-11-22\", \"Clothing\", 320, 16000),\n",
        "\n",
        "(\"2023-11-20\", \"Books\", 150, 9000),\n",
        "\n",
        "(\"2023-11-21\", \"Books\", 200, 12000),\n",
        "\n",
        "(\"2023-11-22\", \"Books\", 180, 10000)\n",
        "\n",
        "Столбцы: \"date\", \"category\", \"quantity\", \"revenue\".\n",
        "\n",
        "С использованием оконных функций, рассчитайте среднее выручки от продаж для каждой категории продукта.\n",
        "Примените операцию pivot для того, чтобы преобразовать полученные данные таким образом, чтобы в качестве строк были категории продуктов, в качестве столбцов были дни, а значениями были средние значения выручки от продаж за соответствующий день."
      ],
      "metadata": {
        "id": "neaSauz44fqR"
      }
    },
    {
      "cell_type": "code",
      "execution_count": 1,
      "metadata": {
        "id": "f6PNPzpe_0uc",
        "colab": {
          "base_uri": "https://localhost:8080/"
        },
        "outputId": "e55d5673-695c-484e-f76b-a77d1afde8a5"
      },
      "outputs": [
        {
          "output_type": "stream",
          "name": "stdout",
          "text": [
            "Requirement already satisfied: pyspark in /usr/local/lib/python3.10/dist-packages (3.5.1)\n",
            "Requirement already satisfied: py4j==0.10.9.7 in /usr/local/lib/python3.10/dist-packages (from pyspark) (0.10.9.7)\n"
          ]
        }
      ],
      "source": [
        "!pip install pyspark"
      ]
    },
    {
      "cell_type": "code",
      "source": [
        "# Импорт библиотек и модулей\n",
        "\n",
        "from pyspark.sql import SparkSession\n",
        "from pyspark.sql.functions import col, to_date, avg, mean, round\n",
        "from pyspark.sql.window import Window"
      ],
      "metadata": {
        "id": "Y4A9pbFv4r-K"
      },
      "execution_count": 2,
      "outputs": []
    },
    {
      "cell_type": "code",
      "source": [
        "# Проверка на существование запущенной spark-сессии\n",
        "\n",
        "if 'spark' in locals():\n",
        "  spark.stop()"
      ],
      "metadata": {
        "id": "XqfaDTFZ7OMr"
      },
      "execution_count": 3,
      "outputs": []
    },
    {
      "cell_type": "code",
      "source": [
        "# Создание сессии\n",
        "\n",
        "spark = SparkSession.builder\\\n",
        "  .appName(\"SalesAnalysis\")\\\n",
        "  .getOrCreate()"
      ],
      "metadata": {
        "id": "02XM1nHJ7F6I"
      },
      "execution_count": 4,
      "outputs": []
    },
    {
      "cell_type": "code",
      "source": [
        "# Данные\n",
        "\n",
        "data = [\n",
        "    (\"2023-11-20\", \"Electronics\", 100, 12000),\n",
        "    (\"2023-11-21\", \"Electronics\", 110, 13000),\n",
        "    (\"2023-11-22\", \"Electronics\", 105, 12500),\n",
        "    (\"2023-11-20\", \"Clothing\", 300, 15000),\n",
        "    (\"2023-11-21\", \"Clothing\", 280, 14000),\n",
        "    (\"2023-11-22\", \"Clothing\", 320, 16000),\n",
        "    (\"2023-11-20\", \"Books\", 150, 9000),\n",
        "    (\"2023-11-21\", \"Books\", 200, 12000),\n",
        "    (\"2023-11-22\", \"Books\", 180, 10000)\n",
        "]"
      ],
      "metadata": {
        "id": "XXyVNFxsF4h4"
      },
      "execution_count": 5,
      "outputs": []
    },
    {
      "cell_type": "code",
      "source": [
        "# Определение схемы\n",
        "\n",
        "columns = [\"date\", \"category\", \"quantity\", \"revenue\"]"
      ],
      "metadata": {
        "id": "H6YVEY_vR6d-"
      },
      "execution_count": 6,
      "outputs": []
    },
    {
      "cell_type": "code",
      "source": [
        "# # Или явное ручное задание схемы (с допущением нулевых значений)\n",
        "\n",
        "# from pyspark.sql.types import StructType, StructField, StringType, IntegerType, ArrayType\n",
        "\n",
        "# columns = StructType([\n",
        "#     StructField(\"date\", StringType, True),\n",
        "#     StructField(\"category\", StringType, True),\n",
        "#     StructField(\"quantity\", IntegerType, True),\n",
        "#     StructField(\"revenue\", IntegerType, True)\n",
        "# ])\n"
      ],
      "metadata": {
        "id": "TBKXj0uzHe8H"
      },
      "execution_count": 7,
      "outputs": []
    },
    {
      "cell_type": "code",
      "source": [
        "df = spark.createDataFrame(data, schema=columns)\n",
        "\n",
        "# # В задании столбец \"дата\" имеет строковый формат, но можно трансформировать её в формат даты:\n",
        "\n",
        "# df_temp = spark.createDataFrame(data, schema=columns)\n",
        "\n",
        "# df = df_temp.withColumn(\"date\", to_date(col(\"date\"), yyyy-MM-dd))"
      ],
      "metadata": {
        "id": "MlYceWzCS5yi"
      },
      "execution_count": 8,
      "outputs": []
    },
    {
      "cell_type": "code",
      "source": [
        "df.show()"
      ],
      "metadata": {
        "colab": {
          "base_uri": "https://localhost:8080/"
        },
        "id": "pBpCkSUfWo1D",
        "outputId": "cc548c19-a32e-4315-f83d-e9444adea78f"
      },
      "execution_count": 9,
      "outputs": [
        {
          "output_type": "stream",
          "name": "stdout",
          "text": [
            "+----------+-----------+--------+-------+\n",
            "|      date|   category|quantity|revenue|\n",
            "+----------+-----------+--------+-------+\n",
            "|2023-11-20|Electronics|     100|  12000|\n",
            "|2023-11-21|Electronics|     110|  13000|\n",
            "|2023-11-22|Electronics|     105|  12500|\n",
            "|2023-11-20|   Clothing|     300|  15000|\n",
            "|2023-11-21|   Clothing|     280|  14000|\n",
            "|2023-11-22|   Clothing|     320|  16000|\n",
            "|2023-11-20|      Books|     150|   9000|\n",
            "|2023-11-21|      Books|     200|  12000|\n",
            "|2023-11-22|      Books|     180|  10000|\n",
            "+----------+-----------+--------+-------+\n",
            "\n"
          ]
        }
      ]
    },
    {
      "cell_type": "code",
      "source": [
        "# Определение оконной спецификации\n",
        "\n",
        "window_spec = Window.partitionBy(\"category\")"
      ],
      "metadata": {
        "id": "AJPSampAi7e8"
      },
      "execution_count": 10,
      "outputs": []
    },
    {
      "cell_type": "code",
      "source": [
        "# Использование оконной функции для расчета среднего значения выручки по категориям\n",
        "# с округлением до 4х знаков после запятой\n",
        "\n",
        "df_avg_rev = df.withColumn(\"avg_revenue\", round(mean(\"revenue\").over(window_spec), 4))"
      ],
      "metadata": {
        "id": "4W4wX5sOSOmD"
      },
      "execution_count": 11,
      "outputs": []
    },
    {
      "cell_type": "code",
      "source": [
        "# Вывод окна рассчетов\n",
        "\n",
        "df_avg_rev.show()"
      ],
      "metadata": {
        "colab": {
          "base_uri": "https://localhost:8080/"
        },
        "id": "2t0wPIQ8jJJf",
        "outputId": "03b20d53-9f00-4889-f1b2-9d167b4c28cf"
      },
      "execution_count": 12,
      "outputs": [
        {
          "output_type": "stream",
          "name": "stdout",
          "text": [
            "+----------+-----------+--------+-------+-----------+\n",
            "|      date|   category|quantity|revenue|avg_revenue|\n",
            "+----------+-----------+--------+-------+-----------+\n",
            "|2023-11-20|      Books|     150|   9000| 10333.3333|\n",
            "|2023-11-21|      Books|     200|  12000| 10333.3333|\n",
            "|2023-11-22|      Books|     180|  10000| 10333.3333|\n",
            "|2023-11-20|   Clothing|     300|  15000|    15000.0|\n",
            "|2023-11-21|   Clothing|     280|  14000|    15000.0|\n",
            "|2023-11-22|   Clothing|     320|  16000|    15000.0|\n",
            "|2023-11-20|Electronics|     100|  12000|    12500.0|\n",
            "|2023-11-21|Electronics|     110|  13000|    12500.0|\n",
            "|2023-11-22|Electronics|     105|  12500|    12500.0|\n",
            "+----------+-----------+--------+-------+-----------+\n",
            "\n"
          ]
        }
      ]
    },
    {
      "cell_type": "code",
      "source": [
        "# Удаление дублирующих строк, оставляя уникальные комбинации category, avg_revenue\n",
        "df_cat_rev = df_avg_rev.select(\"category\", \"avg_revenue\").distinct()\n",
        "\n",
        "df_cat_rev.show()"
      ],
      "metadata": {
        "colab": {
          "base_uri": "https://localhost:8080/"
        },
        "id": "k3z-YF6_STte",
        "outputId": "863491e2-e04d-4919-c6c7-7b136638a8fc"
      },
      "execution_count": 13,
      "outputs": [
        {
          "output_type": "stream",
          "name": "stdout",
          "text": [
            "+-----------+-----------+\n",
            "|   category|avg_revenue|\n",
            "+-----------+-----------+\n",
            "|      Books| 10333.3333|\n",
            "|   Clothing|    15000.0|\n",
            "|Electronics|    12500.0|\n",
            "+-----------+-----------+\n",
            "\n"
          ]
        }
      ]
    },
    {
      "cell_type": "code",
      "source": [
        "# Или можно объединить эти 2 строки с округлением до 2х знаков после запятой\n",
        "\n",
        "df_cat_rev_2 = df.withColumn(\"avg_revenue\", round(mean(\"revenue\")\\\n",
        "  .over(window_spec), 2))\\\n",
        "  .select(\"category\", \"avg_revenue\").distinct()\n",
        "\n",
        "df_cat_rev_2.show()"
      ],
      "metadata": {
        "colab": {
          "base_uri": "https://localhost:8080/"
        },
        "id": "gmd-Ez17TOnu",
        "outputId": "9cad7853-17ea-464f-fd14-ace206149d24"
      },
      "execution_count": 14,
      "outputs": [
        {
          "output_type": "stream",
          "name": "stdout",
          "text": [
            "+-----------+-----------+\n",
            "|   category|avg_revenue|\n",
            "+-----------+-----------+\n",
            "|      Books|   10333.33|\n",
            "|   Clothing|    15000.0|\n",
            "|Electronics|    12500.0|\n",
            "+-----------+-----------+\n",
            "\n"
          ]
        }
      ]
    },
    {
      "cell_type": "code",
      "source": [
        "# Применение pivot для преобразования данных\n",
        "\n",
        "pivot_df = df_avg_rev.groupBy(\"category\").pivot(\"date\").avg(\"revenue\")"
      ],
      "metadata": {
        "id": "nmKNEFzRju0w"
      },
      "execution_count": 15,
      "outputs": []
    },
    {
      "cell_type": "code",
      "source": [
        "# Показать результат\n",
        "\n",
        "pivot_df.show()"
      ],
      "metadata": {
        "id": "FeF9c5najusq",
        "colab": {
          "base_uri": "https://localhost:8080/"
        },
        "outputId": "e4cd9624-d258-4895-8e9d-1f2f9a3e0290"
      },
      "execution_count": 16,
      "outputs": [
        {
          "output_type": "stream",
          "name": "stdout",
          "text": [
            "+-----------+----------+----------+----------+\n",
            "|   category|2023-11-20|2023-11-21|2023-11-22|\n",
            "+-----------+----------+----------+----------+\n",
            "|Electronics|   12000.0|   13000.0|   12500.0|\n",
            "|   Clothing|   15000.0|   14000.0|   16000.0|\n",
            "|      Books|    9000.0|   12000.0|   10000.0|\n",
            "+-----------+----------+----------+----------+\n",
            "\n"
          ]
        }
      ]
    },
    {
      "cell_type": "code",
      "source": [
        "# Останавливаем Spark-сессию\n",
        "\n",
        "spark.stop()"
      ],
      "metadata": {
        "id": "1bddQ58yjsE3"
      },
      "execution_count": 17,
      "outputs": []
    }
  ]
}