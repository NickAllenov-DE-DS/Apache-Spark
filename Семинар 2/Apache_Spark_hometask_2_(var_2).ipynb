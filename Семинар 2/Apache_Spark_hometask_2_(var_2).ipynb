{
  "cells": [
    {
      "cell_type": "markdown",
      "metadata": {
        "id": "HQpr5j4Sj74L"
      },
      "source": [
        "# Урок 2. Инструменты работы и визуализации ч.1\n",
        "\n",
        "Условие: дана таблица с колонками (id, name, salary, managerId), студентам необходимо написать код на spark, который создаст эту таблицу (данные указаны ниже) и в результате выдаст таблицу в которой будут имена сотрудников, которые зарабатывают больше своих менеджеров.\n",
        "\n",
        "![pic.png](data:image/png;base64,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)"
      ]
    },
    {
      "cell_type": "code",
      "execution_count": 1,
      "metadata": {
        "colab": {
          "base_uri": "https://localhost:8080/"
        },
        "id": "sKPfP1OelCVA",
        "outputId": "2cadb5ea-1bc5-47a2-93a5-255ae694b10e"
      },
      "outputs": [
        {
          "name": "stdout",
          "output_type": "stream",
          "text": [
            "Requirement already satisfied: pyspark in c:\\users\\allen\\anaconda3\\lib\\site-packages (3.5.1)\n",
            "Requirement already satisfied: py4j==0.10.9.7 in c:\\users\\allen\\anaconda3\\lib\\site-packages (from pyspark) (0.10.9.7)\n"
          ]
        }
      ],
      "source": [
        "# Установка бибблиотеки pyspark\n",
        "\n",
        "# %pip install pyspark - рекомендованный официальной документацией метод установки\n",
        "!pip install pyspark\n",
        "# %conda install pyspark"
      ]
    },
    {
      "cell_type": "code",
      "execution_count": 2,
      "metadata": {},
      "outputs": [
        {
          "name": "stdout",
          "output_type": "stream",
          "text": [
            "3.5.1\n"
          ]
        }
      ],
      "source": [
        "import pyspark\n",
        "from pyspark.sql import SparkSession\n",
        "from pyspark.sql.functions import col\n",
        "\n",
        "print(pyspark.__version__)\n"
      ]
    },
    {
      "cell_type": "code",
      "execution_count": 3,
      "metadata": {
        "id": "0as8kHX_j7cW"
      },
      "outputs": [],
      "source": [
        "# Импорт модулей\n",
        "\n",
        "from pyspark.sql import SparkSession\n",
        "from pyspark.sql.functions import col"
      ]
    },
    {
      "cell_type": "code",
      "execution_count": 4,
      "metadata": {
        "id": "nvg_AGJPl8hu"
      },
      "outputs": [
        {
          "ename": "Py4JError",
          "evalue": "An error occurred while calling None.org.apache.spark.sql.SparkSession. Trace:\npy4j.Py4JException: Constructor org.apache.spark.sql.SparkSession([class org.apache.spark.SparkContext, class java.util.HashMap]) does not exist\r\n\tat py4j.reflection.ReflectionEngine.getConstructor(ReflectionEngine.java:179)\r\n\tat py4j.reflection.ReflectionEngine.getConstructor(ReflectionEngine.java:196)\r\n\tat py4j.Gateway.invoke(Gateway.java:237)\r\n\tat py4j.commands.ConstructorCommand.invokeConstructor(ConstructorCommand.java:80)\r\n\tat py4j.commands.ConstructorCommand.execute(ConstructorCommand.java:69)\r\n\tat py4j.ClientServerConnection.waitForCommands(ClientServerConnection.java:182)\r\n\tat py4j.ClientServerConnection.run(ClientServerConnection.java:106)\r\n\tat java.lang.Thread.run(Unknown Source)\r\n\n",
          "output_type": "error",
          "traceback": [
            "\u001b[1;31m---------------------------------------------------------------------------\u001b[0m",
            "\u001b[1;31mPy4JError\u001b[0m                                 Traceback (most recent call last)",
            "Cell \u001b[1;32mIn[4], line 2\u001b[0m\n\u001b[0;32m      1\u001b[0m \u001b[38;5;66;03m# Создаем Spark сессию\u001b[39;00m\n\u001b[1;32m----> 2\u001b[0m spark \u001b[38;5;241m=\u001b[39m SparkSession\u001b[38;5;241m.\u001b[39mbuilder\u001b[38;5;241m.\u001b[39mappName(\u001b[38;5;124m\"\u001b[39m\u001b[38;5;124mEmployeeSalary\u001b[39m\u001b[38;5;124m\"\u001b[39m)\u001b[38;5;241m.\u001b[39mgetOrCreate()\n",
            "File \u001b[1;32mc:\\Users\\Allen\\anaconda3\\Lib\\site-packages\\pyspark\\sql\\session.py:500\u001b[0m, in \u001b[0;36mSparkSession.Builder.getOrCreate\u001b[1;34m(self)\u001b[0m\n\u001b[0;32m    497\u001b[0m     sc \u001b[38;5;241m=\u001b[39m SparkContext\u001b[38;5;241m.\u001b[39mgetOrCreate(sparkConf)\n\u001b[0;32m    498\u001b[0m     \u001b[38;5;66;03m# Do not update `SparkConf` for existing `SparkContext`, as it's shared\u001b[39;00m\n\u001b[0;32m    499\u001b[0m     \u001b[38;5;66;03m# by all sessions.\u001b[39;00m\n\u001b[1;32m--> 500\u001b[0m     session \u001b[38;5;241m=\u001b[39m SparkSession(sc, options\u001b[38;5;241m=\u001b[39m\u001b[38;5;28mself\u001b[39m\u001b[38;5;241m.\u001b[39m_options)\n\u001b[0;32m    501\u001b[0m \u001b[38;5;28;01melse\u001b[39;00m:\n\u001b[0;32m    502\u001b[0m     \u001b[38;5;28mgetattr\u001b[39m(\n\u001b[0;32m    503\u001b[0m         \u001b[38;5;28mgetattr\u001b[39m(session\u001b[38;5;241m.\u001b[39m_jvm, \u001b[38;5;124m\"\u001b[39m\u001b[38;5;124mSparkSession$\u001b[39m\u001b[38;5;124m\"\u001b[39m), \u001b[38;5;124m\"\u001b[39m\u001b[38;5;124mMODULE$\u001b[39m\u001b[38;5;124m\"\u001b[39m\n\u001b[0;32m    504\u001b[0m     )\u001b[38;5;241m.\u001b[39mapplyModifiableSettings(session\u001b[38;5;241m.\u001b[39m_jsparkSession, \u001b[38;5;28mself\u001b[39m\u001b[38;5;241m.\u001b[39m_options)\n",
            "File \u001b[1;32mc:\\Users\\Allen\\anaconda3\\Lib\\site-packages\\pyspark\\sql\\session.py:589\u001b[0m, in \u001b[0;36mSparkSession.__init__\u001b[1;34m(self, sparkContext, jsparkSession, options)\u001b[0m\n\u001b[0;32m    585\u001b[0m         \u001b[38;5;28mgetattr\u001b[39m(\u001b[38;5;28mgetattr\u001b[39m(\u001b[38;5;28mself\u001b[39m\u001b[38;5;241m.\u001b[39m_jvm, \u001b[38;5;124m\"\u001b[39m\u001b[38;5;124mSparkSession$\u001b[39m\u001b[38;5;124m\"\u001b[39m), \u001b[38;5;124m\"\u001b[39m\u001b[38;5;124mMODULE$\u001b[39m\u001b[38;5;124m\"\u001b[39m)\u001b[38;5;241m.\u001b[39mapplyModifiableSettings(\n\u001b[0;32m    586\u001b[0m             jsparkSession, options\n\u001b[0;32m    587\u001b[0m         )\n\u001b[0;32m    588\u001b[0m     \u001b[38;5;28;01melse\u001b[39;00m:\n\u001b[1;32m--> 589\u001b[0m         jsparkSession \u001b[38;5;241m=\u001b[39m \u001b[38;5;28mself\u001b[39m\u001b[38;5;241m.\u001b[39m_jvm\u001b[38;5;241m.\u001b[39mSparkSession(\u001b[38;5;28mself\u001b[39m\u001b[38;5;241m.\u001b[39m_jsc\u001b[38;5;241m.\u001b[39msc(), options)\n\u001b[0;32m    590\u001b[0m \u001b[38;5;28;01melse\u001b[39;00m:\n\u001b[0;32m    591\u001b[0m     \u001b[38;5;28mgetattr\u001b[39m(\u001b[38;5;28mgetattr\u001b[39m(\u001b[38;5;28mself\u001b[39m\u001b[38;5;241m.\u001b[39m_jvm, \u001b[38;5;124m\"\u001b[39m\u001b[38;5;124mSparkSession$\u001b[39m\u001b[38;5;124m\"\u001b[39m), \u001b[38;5;124m\"\u001b[39m\u001b[38;5;124mMODULE$\u001b[39m\u001b[38;5;124m\"\u001b[39m)\u001b[38;5;241m.\u001b[39mapplyModifiableSettings(\n\u001b[0;32m    592\u001b[0m         jsparkSession, options\n\u001b[0;32m    593\u001b[0m     )\n",
            "File \u001b[1;32mc:\\Users\\Allen\\anaconda3\\Lib\\site-packages\\py4j\\java_gateway.py:1587\u001b[0m, in \u001b[0;36mJavaClass.__call__\u001b[1;34m(self, *args)\u001b[0m\n\u001b[0;32m   1581\u001b[0m command \u001b[38;5;241m=\u001b[39m proto\u001b[38;5;241m.\u001b[39mCONSTRUCTOR_COMMAND_NAME \u001b[38;5;241m+\u001b[39m\\\n\u001b[0;32m   1582\u001b[0m     \u001b[38;5;28mself\u001b[39m\u001b[38;5;241m.\u001b[39m_command_header \u001b[38;5;241m+\u001b[39m\\\n\u001b[0;32m   1583\u001b[0m     args_command \u001b[38;5;241m+\u001b[39m\\\n\u001b[0;32m   1584\u001b[0m     proto\u001b[38;5;241m.\u001b[39mEND_COMMAND_PART\n\u001b[0;32m   1586\u001b[0m answer \u001b[38;5;241m=\u001b[39m \u001b[38;5;28mself\u001b[39m\u001b[38;5;241m.\u001b[39m_gateway_client\u001b[38;5;241m.\u001b[39msend_command(command)\n\u001b[1;32m-> 1587\u001b[0m return_value \u001b[38;5;241m=\u001b[39m get_return_value(\n\u001b[0;32m   1588\u001b[0m     answer, \u001b[38;5;28mself\u001b[39m\u001b[38;5;241m.\u001b[39m_gateway_client, \u001b[38;5;28;01mNone\u001b[39;00m, \u001b[38;5;28mself\u001b[39m\u001b[38;5;241m.\u001b[39m_fqn)\n\u001b[0;32m   1590\u001b[0m \u001b[38;5;28;01mfor\u001b[39;00m temp_arg \u001b[38;5;129;01min\u001b[39;00m temp_args:\n\u001b[0;32m   1591\u001b[0m     \u001b[38;5;28;01mif\u001b[39;00m \u001b[38;5;28mhasattr\u001b[39m(temp_arg, \u001b[38;5;124m\"\u001b[39m\u001b[38;5;124m_detach\u001b[39m\u001b[38;5;124m\"\u001b[39m):\n",
            "File \u001b[1;32mc:\\Users\\Allen\\anaconda3\\Lib\\site-packages\\py4j\\protocol.py:330\u001b[0m, in \u001b[0;36mget_return_value\u001b[1;34m(answer, gateway_client, target_id, name)\u001b[0m\n\u001b[0;32m    326\u001b[0m         \u001b[38;5;28;01mraise\u001b[39;00m Py4JJavaError(\n\u001b[0;32m    327\u001b[0m             \u001b[38;5;124m\"\u001b[39m\u001b[38;5;124mAn error occurred while calling \u001b[39m\u001b[38;5;132;01m{0}\u001b[39;00m\u001b[38;5;132;01m{1}\u001b[39;00m\u001b[38;5;132;01m{2}\u001b[39;00m\u001b[38;5;124m.\u001b[39m\u001b[38;5;130;01m\\n\u001b[39;00m\u001b[38;5;124m\"\u001b[39m\u001b[38;5;241m.\u001b[39m\n\u001b[0;32m    328\u001b[0m             \u001b[38;5;28mformat\u001b[39m(target_id, \u001b[38;5;124m\"\u001b[39m\u001b[38;5;124m.\u001b[39m\u001b[38;5;124m\"\u001b[39m, name), value)\n\u001b[0;32m    329\u001b[0m     \u001b[38;5;28;01melse\u001b[39;00m:\n\u001b[1;32m--> 330\u001b[0m         \u001b[38;5;28;01mraise\u001b[39;00m Py4JError(\n\u001b[0;32m    331\u001b[0m             \u001b[38;5;124m\"\u001b[39m\u001b[38;5;124mAn error occurred while calling \u001b[39m\u001b[38;5;132;01m{0}\u001b[39;00m\u001b[38;5;132;01m{1}\u001b[39;00m\u001b[38;5;132;01m{2}\u001b[39;00m\u001b[38;5;124m. Trace:\u001b[39m\u001b[38;5;130;01m\\n\u001b[39;00m\u001b[38;5;132;01m{3}\u001b[39;00m\u001b[38;5;130;01m\\n\u001b[39;00m\u001b[38;5;124m\"\u001b[39m\u001b[38;5;241m.\u001b[39m\n\u001b[0;32m    332\u001b[0m             \u001b[38;5;28mformat\u001b[39m(target_id, \u001b[38;5;124m\"\u001b[39m\u001b[38;5;124m.\u001b[39m\u001b[38;5;124m\"\u001b[39m, name, value))\n\u001b[0;32m    333\u001b[0m \u001b[38;5;28;01melse\u001b[39;00m:\n\u001b[0;32m    334\u001b[0m     \u001b[38;5;28;01mraise\u001b[39;00m Py4JError(\n\u001b[0;32m    335\u001b[0m         \u001b[38;5;124m\"\u001b[39m\u001b[38;5;124mAn error occurred while calling \u001b[39m\u001b[38;5;132;01m{0}\u001b[39;00m\u001b[38;5;132;01m{1}\u001b[39;00m\u001b[38;5;132;01m{2}\u001b[39;00m\u001b[38;5;124m\"\u001b[39m\u001b[38;5;241m.\u001b[39m\n\u001b[0;32m    336\u001b[0m         \u001b[38;5;28mformat\u001b[39m(target_id, \u001b[38;5;124m\"\u001b[39m\u001b[38;5;124m.\u001b[39m\u001b[38;5;124m\"\u001b[39m, name))\n",
            "\u001b[1;31mPy4JError\u001b[0m: An error occurred while calling None.org.apache.spark.sql.SparkSession. Trace:\npy4j.Py4JException: Constructor org.apache.spark.sql.SparkSession([class org.apache.spark.SparkContext, class java.util.HashMap]) does not exist\r\n\tat py4j.reflection.ReflectionEngine.getConstructor(ReflectionEngine.java:179)\r\n\tat py4j.reflection.ReflectionEngine.getConstructor(ReflectionEngine.java:196)\r\n\tat py4j.Gateway.invoke(Gateway.java:237)\r\n\tat py4j.commands.ConstructorCommand.invokeConstructor(ConstructorCommand.java:80)\r\n\tat py4j.commands.ConstructorCommand.execute(ConstructorCommand.java:69)\r\n\tat py4j.ClientServerConnection.waitForCommands(ClientServerConnection.java:182)\r\n\tat py4j.ClientServerConnection.run(ClientServerConnection.java:106)\r\n\tat java.lang.Thread.run(Unknown Source)\r\n\n"
          ]
        }
      ],
      "source": [
        "# Создаем Spark сессию\n",
        "spark = SparkSession.builder.appName(\"EmployeeSalary\").getOrCreate()"
      ]
    },
    {
      "cell_type": "code",
      "execution_count": null,
      "metadata": {
        "id": "L3yzZBwtl-e3"
      },
      "outputs": [],
      "source": [
        "# Создаем таблицу\n",
        "\n",
        "# Данные для таблицы\n",
        "data = [\n",
        "    (1, \"Joe\", 70, 3),\n",
        "    (2, \"Henry\", 80, 4),\n",
        "    (3, \"Sam\", 60, None),\n",
        "    (4, \"Max\", 90, None)\n",
        "]\n",
        "\n",
        "# Определяем схему таблицы\n",
        "columns = [\"Id\", \"name\", \"Salary\", \"managerId\"]\n",
        "\n",
        "# Создаем DataFrame\n",
        "df = spark.createDataFrame(data, columns)"
      ]
    },
    {
      "cell_type": "code",
      "execution_count": null,
      "metadata": {
        "colab": {
          "base_uri": "https://localhost:8080/"
        },
        "id": "1hsQycCim9Or",
        "outputId": "a67dffd4-eddf-4a9e-fd88-4670acb55c0f"
      },
      "outputs": [
        {
          "name": "stdout",
          "output_type": "stream",
          "text": [
            "+---+-----+------+---------+\n",
            "| Id| name|Salary|managerId|\n",
            "+---+-----+------+---------+\n",
            "|  1|  Joe|    70|        3|\n",
            "|  2|Henry|    80|        4|\n",
            "|  3|  Sam|    60|     NULL|\n",
            "|  4|  Max|    90|     NULL|\n",
            "+---+-----+------+---------+\n",
            "\n"
          ]
        }
      ],
      "source": [
        "df.show()"
      ]
    },
    {
      "cell_type": "code",
      "execution_count": null,
      "metadata": {
        "id": "nIRpPtq4mk2f"
      },
      "outputs": [],
      "source": [
        "# Присоединяем DataFrame к самому себе, чтобы получить менеджеров\n",
        "df_with_managers = df.alias(\"e1\").join(\n",
        "    df.alias(\"e2\"),\n",
        "    col(\"e1.managerId\") == col(\"e2.Id\"),\n",
        "    \"inner\"\n",
        ").select(\n",
        "    col(\"e1.name\").alias(\"Employee\"),\n",
        "    col(\"e1.Salary\").alias(\"EmployeeSalary\"),\n",
        "    col(\"e2.name\").alias(\"Manager\"),\n",
        "    col(\"e2.Salary\").alias(\"ManagerSalary\")\n",
        ")"
      ]
    },
    {
      "cell_type": "code",
      "execution_count": null,
      "metadata": {
        "colab": {
          "base_uri": "https://localhost:8080/"
        },
        "id": "NQwu5XC4rzt7",
        "outputId": "d6b476d5-ed80-4abe-f08d-db8a67cae4e5"
      },
      "outputs": [
        {
          "name": "stdout",
          "output_type": "stream",
          "text": [
            "+--------+--------------+-------+-------------+\n",
            "|Employee|EmployeeSalary|Manager|ManagerSalary|\n",
            "+--------+--------------+-------+-------------+\n",
            "|     Joe|            70|    Sam|           60|\n",
            "|   Henry|            80|    Max|           90|\n",
            "+--------+--------------+-------+-------------+\n",
            "\n"
          ]
        }
      ],
      "source": [
        "df_with_managers.show()"
      ]
    },
    {
      "cell_type": "code",
      "execution_count": null,
      "metadata": {
        "id": "bDUlfDS3qMLU"
      },
      "outputs": [],
      "source": [
        "# Фильтруем сотрудников, у которых зарплата больше, чем у менеджеров\n",
        "result_df = df_with_managers.filter(col(\"EmployeeSalary\") > col(\"ManagerSalary\")).select(\"Employee\")"
      ]
    },
    {
      "cell_type": "code",
      "execution_count": null,
      "metadata": {
        "colab": {
          "base_uri": "https://localhost:8080/"
        },
        "id": "Tozxh7GwqKZk",
        "outputId": "138de208-9bb9-4353-bfe8-588004931e9b"
      },
      "outputs": [
        {
          "name": "stdout",
          "output_type": "stream",
          "text": [
            "+--------+\n",
            "|Employee|\n",
            "+--------+\n",
            "|     Joe|\n",
            "+--------+\n",
            "\n"
          ]
        }
      ],
      "source": [
        "# Показать результат\n",
        "result_df.show()"
      ]
    },
    {
      "cell_type": "code",
      "execution_count": null,
      "metadata": {
        "id": "-KDWwDFvqIuz"
      },
      "outputs": [],
      "source": [
        "# Останавливаем Spark сессию\n",
        "spark.stop()"
      ]
    }
  ],
  "metadata": {
    "colab": {
      "provenance": []
    },
    "kernelspec": {
      "display_name": "Python 3",
      "name": "python3"
    },
    "language_info": {
      "codemirror_mode": {
        "name": "ipython",
        "version": 3
      },
      "file_extension": ".py",
      "mimetype": "text/x-python",
      "name": "python",
      "nbconvert_exporter": "python",
      "pygments_lexer": "ipython3",
      "version": "3.12.4"
    }
  },
  "nbformat": 4,
  "nbformat_minor": 0
}
